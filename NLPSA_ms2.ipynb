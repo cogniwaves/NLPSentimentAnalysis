{
 "cells": [
  {
   "cell_type": "markdown",
   "id": "5174d3fe",
   "metadata": {},
   "source": [
    "#  Data extraction from small dataset\n",
    "Load in the small_corpus .csv file you created in the previous milestone.\n",
    "\n",
    "Tokenize the sentences and words of the reviews with the tokenize module of NLTK.\n",
    "\n",
    "Keep in mind that word_tokenize and sent_tokenize functions of the nltk.tokenize module should be used."
   ]
  },
  {
   "cell_type": "code",
   "execution_count": 225,
   "id": "dec6844c",
   "metadata": {},
   "outputs": [],
   "source": [
    "from nltk.tokenize import word_tokenize, sent_tokenize\n",
    "import pandas as pd\n",
    "import string\n",
    "\n",
    "smalldf = pd.read_csv('DATASET/vgBalanced.csv', names = ['rating', 'review'])\n",
    "smalldf['review'] = smalldf['review'].str.lower()\n",
    "smalldf['words'] = smalldf['review'].apply(word_tokenize)\n",
    "smalldf['sent'] = smalldf['review'].apply(sent_tokenize)\n"
   ]
  },
  {
   "cell_type": "code",
   "execution_count": 226,
   "id": "b751e671",
   "metadata": {},
   "outputs": [
    {
     "data": {
      "text/html": [
       "<div>\n",
       "<style scoped>\n",
       "    .dataframe tbody tr th:only-of-type {\n",
       "        vertical-align: middle;\n",
       "    }\n",
       "\n",
       "    .dataframe tbody tr th {\n",
       "        vertical-align: top;\n",
       "    }\n",
       "\n",
       "    .dataframe thead th {\n",
       "        text-align: right;\n",
       "    }\n",
       "</style>\n",
       "<table border=\"1\" class=\"dataframe\">\n",
       "  <thead>\n",
       "    <tr style=\"text-align: right;\">\n",
       "      <th></th>\n",
       "      <th>rating</th>\n",
       "      <th>review</th>\n",
       "      <th>words</th>\n",
       "      <th>sent</th>\n",
       "    </tr>\n",
       "  </thead>\n",
       "  <tbody>\n",
       "    <tr>\n",
       "      <th>0</th>\n",
       "      <td>1.0</td>\n",
       "      <td>made in china... either a single bad luck of t...</td>\n",
       "      <td>[made, in, china, ..., either, a, single, bad,...</td>\n",
       "      <td>[made in china... either a single bad luck of ...</td>\n",
       "    </tr>\n",
       "    <tr>\n",
       "      <th>1</th>\n",
       "      <td>1.0</td>\n",
       "      <td>having played all of the other games, i was so...</td>\n",
       "      <td>[having, played, all, of, the, other, games, ,...</td>\n",
       "      <td>[having played all of the other games, i was s...</td>\n",
       "    </tr>\n",
       "    <tr>\n",
       "      <th>2</th>\n",
       "      <td>1.0</td>\n",
       "      <td>macro buttons in the way (obviously?), can't l...</td>\n",
       "      <td>[macro, buttons, in, the, way, (, obviously, ?...</td>\n",
       "      <td>[macro buttons in the way (obviously?, ), can'...</td>\n",
       "    </tr>\n",
       "    <tr>\n",
       "      <th>3</th>\n",
       "      <td>1.0</td>\n",
       "      <td>just received my \"cronusmax plus\" and after so...</td>\n",
       "      <td>[just, received, my, ``, cronusmax, plus, '', ...</td>\n",
       "      <td>[just received my \"cronusmax plus\" and after s...</td>\n",
       "    </tr>\n",
       "    <tr>\n",
       "      <th>4</th>\n",
       "      <td>1.0</td>\n",
       "      <td>not worth the learning curve, the nunchuck+wii...</td>\n",
       "      <td>[not, worth, the, learning, curve, ,, the, nun...</td>\n",
       "      <td>[not worth the learning curve, the nunchuck+wi...</td>\n",
       "    </tr>\n",
       "    <tr>\n",
       "      <th>...</th>\n",
       "      <td>...</td>\n",
       "      <td>...</td>\n",
       "      <td>...</td>\n",
       "      <td>...</td>\n",
       "    </tr>\n",
       "    <tr>\n",
       "      <th>4495</th>\n",
       "      <td>5.0</td>\n",
       "      <td>monster hunter, this game blew me when i playe...</td>\n",
       "      <td>[monster, hunter, ,, this, game, blew, me, whe...</td>\n",
       "      <td>[monster hunter, this game blew me when i play...</td>\n",
       "    </tr>\n",
       "    <tr>\n",
       "      <th>4496</th>\n",
       "      <td>5.0</td>\n",
       "      <td>item is as described.</td>\n",
       "      <td>[item, is, as, described, .]</td>\n",
       "      <td>[item is as described.]</td>\n",
       "    </tr>\n",
       "    <tr>\n",
       "      <th>4497</th>\n",
       "      <td>5.0</td>\n",
       "      <td>all perfect!</td>\n",
       "      <td>[all, perfect, !]</td>\n",
       "      <td>[all perfect!]</td>\n",
       "    </tr>\n",
       "    <tr>\n",
       "      <th>4498</th>\n",
       "      <td>5.0</td>\n",
       "      <td>i think 2k did a good job with making this gam...</td>\n",
       "      <td>[i, think, 2k, did, a, good, job, with, making...</td>\n",
       "      <td>[i think 2k did a good job with making this ga...</td>\n",
       "    </tr>\n",
       "    <tr>\n",
       "      <th>4499</th>\n",
       "      <td>5.0</td>\n",
       "      <td>there is just so little selection in ps4 games...</td>\n",
       "      <td>[there, is, just, so, little, selection, in, p...</td>\n",
       "      <td>[there is just so little selection in ps4 game...</td>\n",
       "    </tr>\n",
       "  </tbody>\n",
       "</table>\n",
       "<p>4500 rows × 4 columns</p>\n",
       "</div>"
      ],
      "text/plain": [
       "      rating                                             review  \\\n",
       "0        1.0  made in china... either a single bad luck of t...   \n",
       "1        1.0  having played all of the other games, i was so...   \n",
       "2        1.0  macro buttons in the way (obviously?), can't l...   \n",
       "3        1.0  just received my \"cronusmax plus\" and after so...   \n",
       "4        1.0  not worth the learning curve, the nunchuck+wii...   \n",
       "...      ...                                                ...   \n",
       "4495     5.0  monster hunter, this game blew me when i playe...   \n",
       "4496     5.0                              item is as described.   \n",
       "4497     5.0                                       all perfect!   \n",
       "4498     5.0  i think 2k did a good job with making this gam...   \n",
       "4499     5.0  there is just so little selection in ps4 games...   \n",
       "\n",
       "                                                  words  \\\n",
       "0     [made, in, china, ..., either, a, single, bad,...   \n",
       "1     [having, played, all, of, the, other, games, ,...   \n",
       "2     [macro, buttons, in, the, way, (, obviously, ?...   \n",
       "3     [just, received, my, ``, cronusmax, plus, '', ...   \n",
       "4     [not, worth, the, learning, curve, ,, the, nun...   \n",
       "...                                                 ...   \n",
       "4495  [monster, hunter, ,, this, game, blew, me, whe...   \n",
       "4496                       [item, is, as, described, .]   \n",
       "4497                                  [all, perfect, !]   \n",
       "4498  [i, think, 2k, did, a, good, job, with, making...   \n",
       "4499  [there, is, just, so, little, selection, in, p...   \n",
       "\n",
       "                                                   sent  \n",
       "0     [made in china... either a single bad luck of ...  \n",
       "1     [having played all of the other games, i was s...  \n",
       "2     [macro buttons in the way (obviously?, ), can'...  \n",
       "3     [just received my \"cronusmax plus\" and after s...  \n",
       "4     [not worth the learning curve, the nunchuck+wi...  \n",
       "...                                                 ...  \n",
       "4495  [monster hunter, this game blew me when i play...  \n",
       "4496                            [item is as described.]  \n",
       "4497                                     [all perfect!]  \n",
       "4498  [i think 2k did a good job with making this ga...  \n",
       "4499  [there is just so little selection in ps4 game...  \n",
       "\n",
       "[4500 rows x 4 columns]"
      ]
     },
     "execution_count": 226,
     "metadata": {},
     "output_type": "execute_result"
    }
   ],
   "source": [
    "smalldf"
   ]
  },
  {
   "cell_type": "markdown",
   "id": "c94180c1",
   "metadata": {},
   "source": [
    "# Classification with opinion lexicon\n",
    "\n",
    "Classify each review in a scale of –1 to +1. The higher the score is, the more positive the review is.\n",
    "\n",
    "It is recommended to score the reviews in two steps. First score the sentences of the reviews from –1 to 1 based on the sum of the positive and negative words they include. Then count the sentiment score of the reviews, which you preliminary sliced into sentences.\n",
    "Don’t forget that NLTK opinion lexicon neither contains uppercase words, nor punctuation marks."
   ]
  },
  {
   "cell_type": "code",
   "execution_count": 227,
   "id": "32576ec8",
   "metadata": {},
   "outputs": [],
   "source": [
    "from nltk.corpus import opinion_lexicon\n",
    "ndict = dict.fromkeys(opinion_lexicon.negative())\n",
    "pdict = dict.fromkeys(opinion_lexicon.positive())"
   ]
  },
  {
   "cell_type": "code",
   "execution_count": 228,
   "id": "9a2121b0",
   "metadata": {},
   "outputs": [],
   "source": [
    "def score_listd (mylist):\n",
    "    score=0\n",
    "    for word in mylist:\n",
    "        if word in pdict:\n",
    "            score+=1\n",
    "        if word in ndict:\n",
    "            score-=1\n",
    "    return score"
   ]
  },
  {
   "cell_type": "code",
   "execution_count": 234,
   "id": "e6372a25",
   "metadata": {},
   "outputs": [
    {
     "name": "stdout",
     "output_type": "stream",
     "text": [
      "It took 0.06288923700003579 to process\n"
     ]
    }
   ],
   "source": [
    "import time\n",
    "stime =time.process_time()\n",
    "smalldf['score'] = smalldf['words'].apply(score_listd)\n",
    "etime = time.process_time()\n",
    "print(f\"It took {etime-stime} to process\")"
   ]
  },
  {
   "cell_type": "code",
   "execution_count": null,
   "id": "69010774",
   "metadata": {},
   "outputs": [],
   "source": []
  }
 ],
 "metadata": {
  "kernelspec": {
   "display_name": "Python 3 (ipykernel)",
   "language": "python",
   "name": "python3"
  },
  "language_info": {
   "codemirror_mode": {
    "name": "ipython",
    "version": 3
   },
   "file_extension": ".py",
   "mimetype": "text/x-python",
   "name": "python",
   "nbconvert_exporter": "python",
   "pygments_lexer": "ipython3",
   "version": "3.9.7"
  }
 },
 "nbformat": 4,
 "nbformat_minor": 5
}
